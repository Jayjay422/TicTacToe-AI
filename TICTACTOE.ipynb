{
  "nbformat": 4,
  "nbformat_minor": 0,
  "metadata": {
    "colab": {
      "provenance": []
    },
    "kernelspec": {
      "name": "python3",
      "display_name": "Python 3"
    },
    "language_info": {
      "name": "python"
    }
  },
  "cells": [
    {
      "cell_type": "code",
      "execution_count": null,
      "metadata": {
        "id": "IdJ8XuBmeZLV"
      },
      "outputs": [],
      "source": []
    },
    {
      "source": [
        "def initialize_board():\n",
        "    return [[' ' for _ in range(3)] for _ in range(3)]\n",
        "\n",
        "def print_board(board):\n",
        "    for row in board:\n",
        "        print('|'.join(row))\n",
        "        print('-' * 5)"
      ],
      "cell_type": "code",
      "metadata": {
        "id": "fz-oYVaLfUXX"
      },
      "execution_count": null,
      "outputs": []
    },
    {
      "source": [
        "def check_winner(board):\n",
        "    # Check rows\n",
        "    for row in board:\n",
        "        if row[0] == row[1] == row[2] and row[0] != ' ':\n",
        "            return row[0]\n",
        "    # Check columns\n",
        "    for col in range(3):\n",
        "        if board[0][col] == board[1][col] == board[2][col] and board[0][col] != ' ':\n",
        "            return board[0][col]\n",
        "    # Check diagonals\n",
        "    if board[0][0] == board[1][1] == board[2][2] and board[0][0] != ' ':\n",
        "        return board[0][0]\n",
        "    if board[0][2] == board[1][1] == board[2][0] and board[0][2] != ' ':\n",
        "        return board[0][2]\n",
        "    # No winner\n",
        "    return None"
      ],
      "cell_type": "code",
      "metadata": {
        "id": "aIlFRZdmflCP"
      },
      "execution_count": null,
      "outputs": []
    },
    {
      "source": [
        "def minimax(board, depth, is_maximizing):\n",
        "    winner = check_winner(board)\n",
        "    if winner:\n",
        "        return 1 if winner == 'X' else -1 if winner == 'O' else 0\n",
        "\n",
        "    if is_maximizing:\n",
        "        best_score = -float('inf')\n",
        "        for i in range(3):\n",
        "            for j in range(3):\n",
        "                if board[i][j] == ' ':\n",
        "                    board[i][j] = 'X'\n",
        "                    score = minimax(board, depth + 1, False)\n",
        "                    board[i][j] = ' '\n",
        "                    best_score = max(score, best_score)\n",
        "        return best_score\n",
        "    else:\n",
        "        best_score = float('inf')\n",
        "        for i in range(3):\n",
        "            for j in range(3):\n",
        "                if board[i][j] == ' ':\n",
        "                    board[i][j] = 'O'\n",
        "                    score = minimax(board, depth + 1, True)\n",
        "                    board[i][j] = ' '\n",
        "                    best_score = min(score, best_score)\n",
        "        return best_score"
      ],
      "cell_type": "code",
      "metadata": {
        "id": "PJJAx7t0foBT"
      },
      "execution_count": null,
      "outputs": []
    },
    {
      "source": [
        "def find_best_move(board):\n",
        "    best_score = -float('inf')\n",
        "    best_move = None\n",
        "    for i in range(3):\n",
        "        for j in range(3):\n",
        "            if board[i][j] == ' ':\n",
        "                board[i][j] = 'X'\n",
        "                score = minimax(board, 0, False)\n",
        "                board[i][j] = ' '\n",
        "                if score > best_score:\n",
        "                    best_score = score\n",
        "                    best_move = (i, j)\n",
        "    return best_move"
      ],
      "cell_type": "code",
      "metadata": {
        "id": "Pecumbwnfq-4"
      },
      "execution_count": null,
      "outputs": []
    },
    {
      "source": [
        "board = initialize_board()\n",
        "print_board(board)\n",
        "\n",
        "while True:\n",
        "    # Player's turn\n",
        "    row, col = map(int, input(\"Enter your move (row, col): \").split(','))\n",
        "    if board[row][col] != ' ':\n",
        "        print(\"Invalid move. Try again.\")\n",
        "        continue\n",
        "    board[row][col] = 'O'\n",
        "    print_board(board)\n",
        "\n",
        "    winner = check_winner(board)\n",
        "    if winner:\n",
        "        print(f\"Winner is {winner}\")\n",
        "        break\n",
        "\n",
        "    # AI's turn\n",
        "    if any(' ' in row for row in board):\n",
        "        ai_row, ai_col = find_best_move(board)\n",
        "        board[ai_row][ai_col] = 'X'\n",
        "        print(\"AI's move:\")\n",
        "        print_board(board)\n",
        "\n",
        "        winner = check_winner(board)\n",
        "        if winner:\n",
        "            print(f\"Winner is {winner}\")\n",
        "            break\n",
        "    else:\n",
        "        print(\"It's a draw!\")\n",
        "        break"
      ],
      "cell_type": "code",
      "metadata": {
        "colab": {
          "base_uri": "https://localhost:8080/"
        },
        "id": "bkpoy9Tkftpn",
        "outputId": "644d57d9-6dbc-4f70-a2bc-84ca6d9f8fb6"
      },
      "execution_count": null,
      "outputs": [
        {
          "output_type": "stream",
          "name": "stdout",
          "text": [
            " | | \n",
            "-----\n",
            " | | \n",
            "-----\n",
            " | | \n",
            "-----\n",
            "Enter your move (row, col): 1,1\n",
            " | | \n",
            "-----\n",
            " |O| \n",
            "-----\n",
            " | | \n",
            "-----\n",
            "AI's move:\n",
            "X| | \n",
            "-----\n",
            " |O| \n",
            "-----\n",
            " | | \n",
            "-----\n",
            "Enter your move (row, col): 2,0\n",
            "X| | \n",
            "-----\n",
            " |O| \n",
            "-----\n",
            "O| | \n",
            "-----\n",
            "AI's move:\n",
            "X|X| \n",
            "-----\n",
            " |O| \n",
            "-----\n",
            "O| | \n",
            "-----\n",
            "Enter your move (row, col): 0,2\n",
            "X|X|O\n",
            "-----\n",
            " |O| \n",
            "-----\n",
            "O| | \n",
            "-----\n",
            "Winner is O\n"
          ]
        }
      ]
    }
  ]
}